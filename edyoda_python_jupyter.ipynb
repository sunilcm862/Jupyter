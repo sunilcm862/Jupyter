{
 "cells": [
  {
   "cell_type": "code",
   "execution_count": 18,
   "id": "5e4b856b",
   "metadata": {},
   "outputs": [
    {
     "name": "stdout",
     "output_type": "stream",
     "text": [
      "3\n"
     ]
    }
   ],
   "source": [
    "print(\"3\")"
   ]
  },
  {
   "cell_type": "code",
   "execution_count": 19,
   "id": "617a5d34",
   "metadata": {},
   "outputs": [],
   "source": [
    "a=10\n",
    "b=29"
   ]
  },
  {
   "cell_type": "code",
   "execution_count": 20,
   "id": "7ebd269e",
   "metadata": {},
   "outputs": [],
   "source": [
    "def add():\n",
    "    c=a+b\n",
    "    return c"
   ]
  },
  {
   "cell_type": "code",
   "execution_count": 21,
   "id": "57c28043",
   "metadata": {},
   "outputs": [],
   "source": [
    "def sub():\n",
    "    c=a-b\n",
    "    return c"
   ]
  },
  {
   "cell_type": "code",
   "execution_count": 22,
   "id": "c90f29fe",
   "metadata": {},
   "outputs": [],
   "source": [
    "def mul():\n",
    "    c=a*b\n",
    "    return c"
   ]
  },
  {
   "cell_type": "code",
   "execution_count": 23,
   "id": "8815fcad",
   "metadata": {},
   "outputs": [
    {
     "data": {
      "text/plain": [
       "-19"
      ]
     },
     "execution_count": 23,
     "metadata": {},
     "output_type": "execute_result"
    }
   ],
   "source": [
    "sub()"
   ]
  },
  {
   "cell_type": "code",
   "execution_count": 24,
   "id": "23062ec3",
   "metadata": {},
   "outputs": [
    {
     "name": "stdout",
     "output_type": "stream",
     "text": [
      "39\n",
      "-19\n",
      "290\n"
     ]
    }
   ],
   "source": [
    "def art_bodmas():\n",
    "    c=a+b\n",
    "    print(c)\n",
    "    d=a-b\n",
    "    print(d)\n",
    "    e=a*b\n",
    "    print(e)\n",
    "art_bodmas()"
   ]
  },
  {
   "cell_type": "code",
   "execution_count": null,
   "id": "475d3317",
   "metadata": {},
   "outputs": [],
   "source": []
  }
 ],
 "metadata": {
  "kernelspec": {
   "display_name": "Python 3 (ipykernel)",
   "language": "python",
   "name": "python3"
  },
  "language_info": {
   "codemirror_mode": {
    "name": "ipython",
    "version": 3
   },
   "file_extension": ".py",
   "mimetype": "text/x-python",
   "name": "python",
   "nbconvert_exporter": "python",
   "pygments_lexer": "ipython3",
   "version": "3.8.0"
  }
 },
 "nbformat": 4,
 "nbformat_minor": 5
}
